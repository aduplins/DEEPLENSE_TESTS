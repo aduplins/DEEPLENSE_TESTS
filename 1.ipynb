{
 "cells": [
  {
   "cell_type": "code",
   "execution_count": 1,
   "metadata": {
    "id": "Ft5PLYtebUQx"
   },
   "outputs": [],
   "source": [
    "import os\n",
    "import numpy as np\n",
    "import torch\n",
    "from torch.utils.data import Dataset\n",
    "\n",
    "from torchvision import transforms\n",
    "from torch.utils.data import DataLoader\n",
    "import torchvision.models as models\n",
    "\n",
    "from sklearn.metrics import roc_curve, auc\n",
    "from sklearn.preprocessing import label_binarize\n",
    "\n",
    "import matplotlib.pyplot as plt"
   ]
  },
  {
   "cell_type": "markdown",
   "metadata": {},
   "source": [
    "### Prior to training I saved the dataset as .npy files so that it is easier to transfer them:\n",
    "no.npy, sphere.npy and vort.npy in \\train folder and the same names in the \\val folder"
   ]
  },
  {
   "cell_type": "code",
   "execution_count": 2,
   "metadata": {},
   "outputs": [],
   "source": [
    "class NpyClassDataset(torch.utils.data.Dataset):\n",
    "    def __init__(self, folder, label_map, transform=None):\n",
    "        self.images = []\n",
    "        self.labels = []\n",
    "        self.transform = transform\n",
    "\n",
    "        for fname, label in label_map.items():\n",
    "            path = os.path.join(folder, fname)\n",
    "            data = np.load(path)  # shape: (N, 150, 150)\n",
    "            data = data[:, None, :, :]  # add channel dim → (N, 1, 150, 150)\n",
    "            self.images.append(torch.tensor(data, dtype=torch.float32))\n",
    "            self.labels += [label] * data.shape[0]\n",
    "\n",
    "        self.images = torch.cat(self.images, dim=0)\n",
    "        self.labels = torch.tensor(self.labels)\n",
    "\n",
    "    def __len__(self):\n",
    "        return len(self.labels)\n",
    "\n",
    "    def __getitem__(self, idx):\n",
    "        img = self.images[idx]\n",
    "        label = self.labels[idx]\n",
    "\n",
    "        if self.transform:\n",
    "            img = self.transform(img)\n",
    "\n",
    "        return img, label"
   ]
  },
  {
   "cell_type": "markdown",
   "metadata": {},
   "source": [
    "### Data loading and augmentation for the training set"
   ]
  },
  {
   "cell_type": "code",
   "execution_count": 3,
   "metadata": {
    "id": "91kpH-rSZhSc"
   },
   "outputs": [],
   "source": [
    "transform_train = transforms.Compose([\n",
    "    transforms.RandomAffine(degrees=0, translate=(0.05, 0.05)), \n",
    "    transforms.RandomRotation(90)            \n",
    "])"
   ]
  },
  {
   "cell_type": "code",
   "execution_count": 4,
   "metadata": {},
   "outputs": [],
   "source": [
    "label_map = {'no.npy': 0, 'sphere.npy': 1, 'vort.npy': 2}\n",
    "\n",
    "train_ds = NpyClassDataset(r'./train/',label_map, transform = transform_train)\n",
    "val_ds = NpyClassDataset(r'./val/',label_map)\n",
    "\n",
    "train_loader = DataLoader(train_ds, batch_size=64, shuffle=True)\n",
    "val_loader = DataLoader(val_ds, batch_size=64, shuffle=True)"
   ]
  },
  {
   "cell_type": "markdown",
   "metadata": {},
   "source": [
    "### To use pretrained resnet18 it needs to be customised for the single input channel and 3 outputs"
   ]
  },
  {
   "cell_type": "code",
   "execution_count": 5,
   "metadata": {},
   "outputs": [],
   "source": [
    "def get_resnet18_grayscale(num_classes):\n",
    "    model = models.resnet18(weights='IMAGENET1K_V1')  \n",
    "\n",
    "    original_conv = model.conv1\n",
    "\n",
    "    new_conv = nn.Conv2d(\n",
    "    in_channels=1,\n",
    "    out_channels=original_conv.out_channels,\n",
    "    kernel_size=original_conv.kernel_size,\n",
    "    stride=original_conv.stride,\n",
    "    padding=original_conv.padding,\n",
    "    bias=original_conv.bias is not None\n",
    "    )\n",
    "\n",
    "    with torch.no_grad():\n",
    "        new_conv.weight[:] = original_conv.weight.mean(dim=1, keepdim=True)\n",
    "\n",
    "    model.conv1 = new_conv\n",
    "    \n",
    "    model.fc = nn.Linear(model.fc.in_features, num_classes)\n",
    "\n",
    "    return model"
   ]
  },
  {
   "cell_type": "markdown",
   "metadata": {},
   "source": [
    "### Initializing the model"
   ]
  },
  {
   "cell_type": "code",
   "execution_count": null,
   "metadata": {},
   "outputs": [],
   "source": [
    "device = torch.device(\"cuda\" if torch.cuda.is_available() else \"cpu\")\n",
    "model = get_resnet18_grayscale(num_classes=3).to(device)"
   ]
  },
  {
   "cell_type": "markdown",
   "metadata": {},
   "source": [
    "### Training the model"
   ]
  },
  {
   "cell_type": "code",
   "execution_count": 12,
   "metadata": {
    "id": "y0VDERAiiXNA"
   },
   "outputs": [
    {
     "name": "stdout",
     "output_type": "stream",
     "text": [
      "Epoch 1: Train Loss = 1.0419, Val Loss = 0.8528, Val Acc = 0.5800\n",
      "Epoch 2: Train Loss = 0.7237, Val Loss = 0.6289, Val Acc = 0.7215\n",
      "Epoch 3: Train Loss = 0.5717, Val Loss = 0.5749, Val Acc = 0.7664\n"
     ]
    }
   ],
   "source": [
    "criterion = nn.CrossEntropyLoss()\n",
    "optimizer = torch.optim.Adam(model.parameters(), lr=0.0001)\n",
    "\n",
    "log_file = \"log_test1/training_log.txt\"\n",
    "os.makedirs(os.path.dirname(log_file), exist_ok=True)\n",
    "\n",
    "with open(log_file, 'w') as f:\n",
    "    for epoch in range(3):\n",
    "        running_train_loss = 0.0\n",
    "        model.train()\n",
    "        for inputs, labels in train_loader:\n",
    "            inputs, labels = inputs.to(device), labels.to(device)\n",
    "    \n",
    "            optimizer.zero_grad()\n",
    "            outputs = model(inputs)\n",
    "            loss = criterion(outputs, labels)\n",
    "            loss.backward()\n",
    "            optimizer.step()\n",
    "\n",
    "            running_train_loss += loss.item() * inputs.size(0)\n",
    "\n",
    "        avg_train_loss = running_train_loss / len(train_loader.dataset)\n",
    "    \n",
    "        model.eval()\n",
    "        running_val_loss = 0.0\n",
    "        correct = 0\n",
    "        total = 0\n",
    "\n",
    "        with torch.no_grad():\n",
    "            for inputs, labels in val_loader:\n",
    "                inputs, labels = inputs.to(device), labels.to(device)\n",
    "                outputs = model(inputs)\n",
    "                loss = criterion(outputs, labels)\n",
    "                running_val_loss += loss.item() * inputs.size(0)\n",
    "\n",
    "                preds = outputs.argmax(dim=1)\n",
    "                correct += (preds == labels).sum().item()\n",
    "                total += labels.size(0)\n",
    "\n",
    "        avg_val_loss = running_val_loss / len(val_loader.dataset)\n",
    "        val_accuracy = correct / total\n",
    "\n",
    "        log_line = (f\"Epoch {epoch+1}: \"\n",
    "                    f\"Train Loss = {avg_train_loss:.4f}, \"\n",
    "                    f\"Val Loss = {avg_val_loss:.4f}, \"\n",
    "                    f\"Val Acc = {val_accuracy:.4f}\")\n",
    "        print(log_line)\n",
    "        f.write(log_line + '\\n')\n",
    "\n",
    "torch.save(model.state_dict(), f'model_epoch_{epoch+1}.pt')"
   ]
  },
  {
   "cell_type": "markdown",
   "metadata": {},
   "source": [
    "### Loading previously trained model"
   ]
  },
  {
   "cell_type": "code",
   "execution_count": null,
   "metadata": {},
   "outputs": [],
   "source": [
    "model.load_state_dict(torch.load('test_1.pt'))"
   ]
  },
  {
   "cell_type": "markdown",
   "metadata": {},
   "source": [
    "### Evaluating the model on the validation set and obtaining ROC and AUC"
   ]
  },
  {
   "cell_type": "code",
   "execution_count": 7,
   "metadata": {
    "id": "kYz0hzPVg5Yt"
   },
   "outputs": [],
   "source": [
    "model.eval()\n",
    "all_probs = []\n",
    "all_labels = []\n",
    "\n",
    "with torch.no_grad():\n",
    "    for inputs, labels in val_loader:\n",
    "        inputs = inputs.to(device)\n",
    "        outputs = model(inputs)  # raw logits\n",
    "        probs = torch.softmax(outputs, dim=1)  # probabilities\n",
    "        all_probs.append(probs.cpu().numpy())\n",
    "        all_labels.append(labels.cpu().numpy())\n",
    "\n",
    "# Stack results\n",
    "all_probs = np.vstack(all_probs)\n",
    "all_labels = np.concatenate(all_labels)"
   ]
  },
  {
   "cell_type": "code",
   "execution_count": 8,
   "metadata": {
    "id": "RJhqY96Vg7px"
   },
   "outputs": [],
   "source": [
    "n_classes = 3\n",
    "y_true = label_binarize(all_labels, classes=[0, 1, 2])  # shape: (N, 3)\n",
    "\n",
    "fpr = dict()\n",
    "tpr = dict()\n",
    "roc_auc = dict()\n",
    "\n",
    "for i in range(n_classes):\n",
    "    fpr[i], tpr[i], _ = roc_curve(y_true[:, i], all_probs[:, i])\n",
    "    roc_auc[i] = auc(fpr[i], tpr[i])"
   ]
  },
  {
   "cell_type": "code",
   "execution_count": 9,
   "metadata": {
    "id": "FoYmlQYPhDSd"
   },
   "outputs": [
    {
     "data": {
      "image/png": "[encoded data removed]",
      "text/plain": [
       "<Figure size 576x432 with 1 Axes>"
      ]
     },
     "metadata": {
      "needs_background": "light"
     },
     "output_type": "display_data"
    }
   ],
   "source": [
    "plt.figure(figsize=(8, 6))\n",
    "colors = ['blue', 'green', 'red']\n",
    "for i in range(n_classes):\n",
    "    plt.plot(fpr[i], tpr[i], color=colors[i], label=f\"Class {i} (AUC = {roc_auc[i]:.8f})\")\n",
    "\n",
    "plt.plot([0, 1], [0, 1], 'k--', label='Random Guess')\n",
    "plt.xlabel('False Positive Rate')\n",
    "plt.ylabel('True Positive Rate')\n",
    "plt.title('ROC Curve for Multi-Class Classification')\n",
    "plt.legend()\n",
    "plt.grid()\n",
    "plt.show()\n"
   ]
  }
 ],
 "metadata": {
  "accelerator": "TPU",
  "colab": {
   "gpuType": "V28",
   "provenance": [],
   "toc_visible": true
  },
  "kernelspec": {
   "display_name": "local-venv",
   "language": "python",
   "name": "local-venv"
  },
  "language_info": {
   "codemirror_mode": {
    "name": "ipython",
    "version": 3
   },
   "file_extension": ".py",
   "mimetype": "text/x-python",
   "name": "python",
   "nbconvert_exporter": "python",
   "pygments_lexer": "ipython3",
   "version": "3.9.7"
  }
 },
 "nbformat": 4,
 "nbformat_minor": 4
}
